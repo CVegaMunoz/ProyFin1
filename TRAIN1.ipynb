{
 "cells": [
  {
   "cell_type": "code",
   "execution_count": 1,
   "id": "303d543f",
   "metadata": {},
   "outputs": [],
   "source": [
    "import sys\n",
    "import os\n",
    "import tensorflow\n",
    "import tensorflow.keras as keras"
   ]
  },
  {
   "cell_type": "code",
   "execution_count": 6,
   "id": "bcb61b57",
   "metadata": {},
   "outputs": [],
   "source": [
    "from tensorflow.keras.preprocessing.image import ImageDataGenerator #permite manipulacion de imágenes\n",
    "from tensorflow.keras import optimizers\n",
    "from tensorflow.keras.models import Sequential \n",
    "from tensorflow.keras.layers import Dropout, Flatten, Dense, Activation\n",
    "from tensorflow.keras.layers import Convolution2D, MaxPooling2D\n",
    "from tensorflow.keras import backend as K # De existir subprocesos en ejecución los finalizamos con la siguiente instrucción\n",
    "\n",
    "K.clear_session() #cerramos los procesos en ejecución\n",
    "\n",
    "datos_entrenamiento = './ClasificaImagenes/CarneDataset/train'\n",
    "datos_prueba = '/Users/christianvega/Desktop/ClasificaImagenes/CarneDataset/test'"
   ]
  },
  {
   "cell_type": "code",
   "execution_count": 3,
   "id": "48d94cb6",
   "metadata": {},
   "outputs": [],
   "source": [
    "## Parametros\n",
    "\n",
    "# 'iterac = 20' Numero de veces que vamos a iterar sobre nuestros datos de entrenamientos\n",
    "iterac = 20\n",
    "\n",
    "# Ajustamos el tamaño de las imagenes\n",
    "altura, longitud = 150, 150\n",
    "\n",
    "# Cantidad de Imagenes\n",
    "cantidad_datos = 1640\n",
    "\n",
    "# 'pasos = 1000' Numero de veces que se va a procesar la información en cada una de las iteraciones\n",
    "pasos = 1000\n",
    "\n",
    "pasos_validacion = 200\n",
    "\n",
    "filtros_conv1 = 32\n",
    "filtros_conv2 = 64\n",
    "\n",
    "tamano_filtro1 = (3,3)\n",
    "tamano_filtro2 = (2,2)\n",
    "\n",
    "tamano_pool = (2,2)\n",
    "clases = 8\n",
    "\n",
    "# Learning Rate \n",
    "learning_rate = 0.0005"
   ]
  },
  {
   "cell_type": "code",
   "execution_count": 5,
   "id": "e468668f",
   "metadata": {
    "scrolled": true
   },
   "outputs": [
    {
     "name": "stdout",
     "output_type": "stream",
     "text": [
      "entrenamiento_datagen <keras.preprocessing.image.ImageDataGenerator object at 0x7fbd0fda2bb0>\n",
      "Found 1634 images belonging to 8 classes.\n",
      "imagen_entrenamiento <keras.preprocessing.image.DirectoryIterator object at 0x7fbd0fdd8d30>\n",
      "Found 810 images belonging to 8 classes.\n"
     ]
    }
   ],
   "source": [
    "## PreProcesamiento de Imagenes\n",
    "\n",
    "train_datagen = ImageDataGenerator(\n",
    "    rescale = 1./255,\n",
    "    shear_range = 0.2,\n",
    "    zoom_range = 0.2,\n",
    "    horizontal_flip = True\n",
    ")\n",
    "\n",
    "print('entrenamiento_datagen', train_datagen)\n",
    "\n",
    "validacion_datagen = ImageDataGenerator(\n",
    "    rescale = 1./255\n",
    ")\n",
    "\n",
    "imagen_entrenamiento = entrenamiento_datagen.flow_from_directory(\n",
    "    datos_entrenamiento,\n",
    "    target_size = (altura, longitud),\n",
    "    batch_size = cantidad_datos,\n",
    "    class_mode = 'categorical'\n",
    ")\n",
    "\n",
    "print('imagen_entrenamiento', imagen_entrenamiento)\n",
    "\n",
    "imagen_validacion = validacion_datagen.flow_from_directory(\n",
    "    datos_prueba,\n",
    "    target_size = (altura, longitud),\n",
    "    batch_size = cantidad_datos,\n",
    "    class_mode = 'categorical'\n",
    ")"
   ]
  },
  {
   "cell_type": "code",
   "execution_count": null,
   "id": "c2b0b3dd",
   "metadata": {},
   "outputs": [],
   "source": [
    "## Creando la Red CNN\n",
    "\n",
    "cnn = Sequential()\n",
    "\n",
    "cnn.add(\n",
    "    Convolution2D(\n",
    "        filtros_conv1,\n",
    "        tamano_filtro1,\n",
    "        padding = 'same',\n",
    "        input_shape = (altura, longitud, 3),\n",
    "        activation = 'relu'\n",
    "    )\n",
    ")"
   ]
  },
  {
   "cell_type": "code",
   "execution_count": null,
   "id": "44383405",
   "metadata": {},
   "outputs": [],
   "source": [
    "cnn.add(\n",
    "    MaxPooling2D(pool_size = tamano_pool)\n",
    ")\n",
    "\n",
    "cnn.add(\n",
    "    Convolution2D(\n",
    "        filtros_conv2,\n",
    "        tamano_filtro2,\n",
    "        padding = 'same',\n",
    "        activation = 'relu'\n",
    "    )\n",
    ")"
   ]
  },
  {
   "cell_type": "code",
   "execution_count": null,
   "id": "26e1371b",
   "metadata": {},
   "outputs": [],
   "source": [
    "cnn.add(\n",
    "    MaxPooling2D(pool_size = tamano_pool)\n",
    ")\n",
    "\n",
    "cnn.add(Flatten())\n",
    "\n",
    "cnn.add(\n",
    "    Dense(256, activation = 'relu')\n",
    ")\n",
    "\n",
    "cnn.add(\n",
    "    Dropout(0.5)\n",
    ")\n",
    "\n",
    "cnn.add(\n",
    "    Dense(clases, activation = 'softmax')\n",
    ")\n",
    "\n",
    "cnn.compile(\n",
    "    loss='sparse_categorical_crossentropy',\n",
    "    optimizer = optimizers.Adam(learning_rate=learning_rate), #segundo error\n",
    "    metrics = ['accuracy']\n",
    ")"
   ]
  },
  {
   "cell_type": "code",
   "execution_count": null,
   "id": "2e356ea3",
   "metadata": {},
   "outputs": [],
   "source": [
    "cnn.fit(\n",
    "    imagen_entrenamiento,\n",
    "    steps_per_epoch = pasos,\n",
    "    epochs = iterac,\n",
    "    validation_data = imagen_validacion,\n",
    "    validation_steps = pasos_validacion\n",
    ")\n",
    "\n",
    "target_dir = './modelo/'\n",
    "\n",
    "if not os.path.exists(target_dir):\n",
    "    os.mkdir(target_dir)\n",
    "\n",
    "cnn.save('./modelo/modelo.h5')\n",
    "cnn.save_weights('./modelo/pesos.h5')"
   ]
  },
  {
   "cell_type": "code",
   "execution_count": null,
   "id": "c1f724d1",
   "metadata": {},
   "outputs": [],
   "source": []
  },
  {
   "cell_type": "code",
   "execution_count": null,
   "id": "1aa6e38c",
   "metadata": {},
   "outputs": [],
   "source": []
  }
 ],
 "metadata": {
  "kernelspec": {
   "display_name": "Python 3 (ipykernel)",
   "language": "python",
   "name": "python3"
  },
  "language_info": {
   "codemirror_mode": {
    "name": "ipython",
    "version": 3
   },
   "file_extension": ".py",
   "mimetype": "text/x-python",
   "name": "python",
   "nbconvert_exporter": "python",
   "pygments_lexer": "ipython3",
   "version": "3.9.12"
  }
 },
 "nbformat": 4,
 "nbformat_minor": 5
}
