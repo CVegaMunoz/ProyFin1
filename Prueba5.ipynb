{
 "cells": [
  {
   "cell_type": "code",
   "execution_count": null,
   "id": "26f0048a",
   "metadata": {},
   "outputs": [],
   "source": [
    "import matplotlib.pyplot as plt"
   ]
  },
  {
   "cell_type": "code",
   "execution_count": null,
   "id": "8afc9e96",
   "metadata": {},
   "outputs": [],
   "source": [
    "import seaborn as sns"
   ]
  },
  {
   "cell_type": "code",
   "execution_count": null,
   "id": "ef61bdee",
   "metadata": {},
   "outputs": [],
   "source": [
    "import keras"
   ]
  },
  {
   "cell_type": "code",
   "execution_count": null,
   "id": "9aca0ae0",
   "metadata": {},
   "outputs": [],
   "source": [
    "from keras.models import Sequential"
   ]
  },
  {
   "cell_type": "code",
   "execution_count": null,
   "id": "90da3f36",
   "metadata": {},
   "outputs": [],
   "source": [
    "from keras.layers import Dense, Conv2D, MaxPool2D, Flatten, Dropout"
   ]
  },
  {
   "cell_type": "code",
   "execution_count": null,
   "id": "ecafd268",
   "metadata": {},
   "outputs": [],
   "source": [
    "from keras.preprocessing.image import ImageDataGenerator"
   ]
  },
  {
   "cell_type": "code",
   "execution_count": null,
   "id": "daf8c229",
   "metadata": {},
   "outputs": [],
   "source": [
    "from keras.optimizers import Adam"
   ]
  },
  {
   "cell_type": "code",
   "execution_count": null,
   "id": "b70f58c1",
   "metadata": {},
   "outputs": [],
   "source": [
    "from sklearn.metrics import classification_report,confusion_matrix"
   ]
  },
  {
   "cell_type": "code",
   "execution_count": null,
   "id": "ce3e0143",
   "metadata": {},
   "outputs": [],
   "source": [
    "import tensorflow as tf"
   ]
  },
  {
   "cell_type": "code",
   "execution_count": null,
   "id": "bd10c3bf",
   "metadata": {},
   "outputs": [],
   "source": [
    "import cv2"
   ]
  },
  {
   "cell_type": "code",
   "execution_count": null,
   "id": "d5cd400b",
   "metadata": {},
   "outputs": [],
   "source": [
    "import os"
   ]
  },
  {
   "cell_type": "code",
   "execution_count": null,
   "id": "4d57a30b",
   "metadata": {},
   "outputs": [],
   "source": [
    "import sys"
   ]
  },
  {
   "cell_type": "code",
   "execution_count": null,
   "id": "47c20c0b",
   "metadata": {},
   "outputs": [],
   "source": [
    "import numpy as np"
   ]
  },
  {
   "cell_type": "code",
   "execution_count": null,
   "id": "ff23a5d9",
   "metadata": {},
   "outputs": [],
   "source": [
    "#creamos las etiquetas que utilizaremos en la clasificación\n",
    "labels = [\"CLASS_01\",\"CLASS_02\",\"CLASS_03\",\"CLASS_04\",\"CLASS_05\",\"CLASS_06\",\"CLASS_07\",\"CLASS_08\"]"
   ]
  },
  {
   "cell_type": "code",
   "execution_count": null,
   "id": "0a608fad",
   "metadata": {},
   "outputs": [],
   "source": [
    "#definimos el tamaño de las imagenes\n",
    "img_size = 224"
   ]
  },
  {
   "cell_type": "code",
   "execution_count": null,
   "id": "379f3d7b",
   "metadata": {},
   "outputs": [],
   "source": [
    "#definimos una función que permita crear nuestro set de datos\n",
    "def get_data(data_dir):\n",
    "    data = []\n",
    "    for label in labels:\n",
    "        path = os.path.join(data_dir, label)\n",
    "        class_num = labels.index(label)\n",
    "        for img in os.listdir(path):\n",
    "            try:\n",
    "                img_arr = cv2.imread(os.path.join(path,img))[...,::-1]\n",
    "                resized_arr = cv2.resize(img_arr,(img_size, img_size))\n",
    "                data.append([resized_arr,class_num])\n",
    "            except Exception as e: print (e)\n",
    "    return np.array(data,dtype=object)"
   ]
  },
  {
   "cell_type": "code",
   "execution_count": null,
   "id": "7759f026",
   "metadata": {},
   "outputs": [],
   "source": [
    "train = get_data(\"./CarneDataset/train\")\n",
    "test = get_data(\"./CarneDataset/test\")"
   ]
  },
  {
   "cell_type": "code",
   "execution_count": null,
   "id": "7a36c411",
   "metadata": {},
   "outputs": [],
   "source": [
    "l=[]\n",
    "for i in train:\n",
    "    if(i[1]==0):\n",
    "        l.append(\"uno\")\n",
    "    if(i[1]==1):\n",
    "        l.append(\"dos\")\n",
    "    if(i[1]==2):\n",
    "        l.append(\"tres\")\n",
    "    if(i[1]==3):\n",
    "        l.append(\"cuatro\")\n",
    "    if(i[1]==4):\n",
    "        l.append(\"cinco\")\n",
    "    if(i[1]==5):\n",
    "        l.append(\"seis\")\n",
    "    if(i[1]==6):\n",
    "        l.append(\"siete\")\n",
    "    if(i[1]==7):\n",
    "        l.append(\"ocho\")\n",
    "    else:\n",
    "        l.append(\"otro\")\n",
    "sns.set_style(\"darkgrid\")\n",
    "sns.countplot(l)"
   ]
  },
  {
   "cell_type": "code",
   "execution_count": null,
   "id": "98e56c11",
   "metadata": {},
   "outputs": [],
   "source": [
    "x_train = []\n",
    "y_train = []\n",
    "x_test = []\n",
    "y_test = []"
   ]
  },
  {
   "cell_type": "code",
   "execution_count": null,
   "id": "41b64c9d",
   "metadata": {},
   "outputs": [],
   "source": [
    "for feature, label in train:\n",
    "    x_train.append(feature)\n",
    "    y_train.append(label)\n",
    "for feature, label in test:\n",
    "    x_test.append(feature)\n",
    "    y_test.append(label)\n"
   ]
  },
  {
   "cell_type": "code",
   "execution_count": null,
   "id": "a7f833fd",
   "metadata": {},
   "outputs": [],
   "source": [
    "#normalizamos la información\n",
    "x_train= np.asarray(x_train)/255\n",
    "x_test= np.asarray(x_test)/255\n",
    "x_train.reshape(-1, img_size,img_size,1)\n",
    "y_train=np.asarray(y_train)\n",
    "x_test.reshape(-1, img_size,img_size,1)\n",
    "y_test=np.asarray(y_train)\n",
    "\n"
   ]
  },
  {
   "cell_type": "code",
   "execution_count": null,
   "id": "662eccd0",
   "metadata": {},
   "outputs": [],
   "source": [
    "datagen = ImageDataGenerator(featurewise_center=False,\n",
    "                            samplewise_center=False,\n",
    "                            featurewise_std_normalization=False,\n",
    "                            samplewise_std_normalization=False,\n",
    "                            zca_whitening=False,\n",
    "                            rotation_range=30,\n",
    "                            zoom_range=0.2,\n",
    "                            width_shift_range=0.1,\n",
    "                            height_shift_range=0.1,\n",
    "                            horizontal_flip=True,\n",
    "                            vertical_flip=False)"
   ]
  },
  {
   "cell_type": "code",
   "execution_count": null,
   "id": "87e421cc",
   "metadata": {},
   "outputs": [],
   "source": [
    "datagen.fit(x_train)"
   ]
  },
  {
   "cell_type": "code",
   "execution_count": null,
   "id": "2218c04f",
   "metadata": {},
   "outputs": [],
   "source": [
    "#modelo CNN con 3 capas convolucionales y capas de maximix¡zación\n",
    "model = Sequential()\n",
    "#primera capa\n",
    "model.add(Conv2D(32,3,padding=\"same\",activation=\"relu\",input_shape=(224,224,3)))\n",
    "model.add(MaxPool2D())\n",
    "#segunda capa\n",
    "model.add(Conv2D(32,3,padding=\"same\",activation=\"relu\"))\n",
    "model.add(MaxPool2D())\n",
    "#tercera capa\n",
    "model.add(Conv2D(64,3,padding=\"same\",activation=\"relu\"))\n",
    "model.add(MaxPool2D())\n",
    "model.add(Dropout(0.4))\n",
    "\n",
    "#capa de dropout\n",
    "model.add(Flatten())\n",
    "model.add(Dense(128,activation=\"relu\"))\n",
    "model.add(Dense(8,activation=\"softmax\"))\n",
    "\n",
    "model.summary()\n",
    "\n",
    "\n"
   ]
  },
  {
   "cell_type": "code",
   "execution_count": null,
   "id": "a5df0b85",
   "metadata": {},
   "outputs": [],
   "source": [
    "#optimizamos con Adam y funciòn de pérdida SparseCategoricalCrossentropy\n",
    "opt=Adam(learning_rate=0.000001)\n",
    "model.compile(optimizer=opt,loss=tf.keras.losses.SparseCategoricalCrossentropy(from_logits=True),metrics=[\"accuracy\"])\n"
   ]
  },
  {
   "cell_type": "code",
   "execution_count": null,
   "id": "d9eba656",
   "metadata": {},
   "outputs": [],
   "source": [
    "history = model.fit(x_train,y_train,epochs=1,validation_data=(x_test,y_test))"
   ]
  },
  {
   "cell_type": "code",
   "execution_count": null,
   "id": "994aafbf",
   "metadata": {},
   "outputs": [],
   "source": [
    "acc=history.history[\"precision\"]\n",
    "test_acc=history.history[\"test_precision\"]\n",
    "loss = history.history[\"perdida\"]\n",
    "test_loss = history.history[\"test_perdida\"]\n",
    "epochs_range = range(10)"
   ]
  },
  {
   "cell_type": "code",
   "execution_count": null,
   "id": "7db521a8",
   "metadata": {},
   "outputs": [],
   "source": [
    "predicciones=model.predict_classes(x_test)\n",
    "predicciones=predictions.reshape(1,-1)[0]\n",
    "print(classification_report(y_test,predicciones, target_names=[\"CLASS_01\",\"CLASS_02\",\"CLASS_03\",\"CLASS_04\",\"CLASS_05\",\"CLASS_06\",\"CLASS_07\",\"CLASS_08\"]))"
   ]
  }
 ],
 "metadata": {
  "kernelspec": {
   "display_name": "Python 3 (ipykernel)",
   "language": "python",
   "name": "python3"
  },
  "language_info": {
   "codemirror_mode": {
    "name": "ipython",
    "version": 3
   },
   "file_extension": ".py",
   "mimetype": "text/x-python",
   "name": "python",
   "nbconvert_exporter": "python",
   "pygments_lexer": "ipython3",
   "version": "3.9.12"
  }
 },
 "nbformat": 4,
 "nbformat_minor": 5
}
