{
 "cells": [
  {
   "cell_type": "code",
   "execution_count": 28,
   "id": "0faa0fb5",
   "metadata": {},
   "outputs": [],
   "source": [
    "import matplotlib.pyplot"
   ]
  },
  {
   "cell_type": "code",
   "execution_count": 27,
   "id": "9e7582ad",
   "metadata": {},
   "outputs": [],
   "source": [
    "import keras"
   ]
  },
  {
   "cell_type": "code",
   "execution_count": 29,
   "id": "45cf8395",
   "metadata": {},
   "outputs": [],
   "source": [
    "import torch"
   ]
  },
  {
   "cell_type": "code",
   "execution_count": 30,
   "id": "e5e53e9c",
   "metadata": {},
   "outputs": [],
   "source": [
    "import torchvision"
   ]
  },
  {
   "cell_type": "code",
   "execution_count": 31,
   "id": "d6f14a60",
   "metadata": {},
   "outputs": [],
   "source": [
    "from torchvision import transforms"
   ]
  },
  {
   "cell_type": "code",
   "execution_count": 32,
   "id": "244891ce",
   "metadata": {},
   "outputs": [],
   "source": [
    "import os"
   ]
  },
  {
   "cell_type": "code",
   "execution_count": 33,
   "id": "2133c88a",
   "metadata": {},
   "outputs": [],
   "source": [
    "import sys"
   ]
  },
  {
   "cell_type": "code",
   "execution_count": 34,
   "id": "3f7f3e97",
   "metadata": {},
   "outputs": [],
   "source": [
    "import tensorflow"
   ]
  },
  {
   "cell_type": "code",
   "execution_count": 35,
   "id": "58af40aa",
   "metadata": {},
   "outputs": [],
   "source": [
    "import numpy as np"
   ]
  },
  {
   "cell_type": "code",
   "execution_count": 36,
   "id": "41ed57bb",
   "metadata": {},
   "outputs": [],
   "source": [
    "import torch.nn as nn"
   ]
  },
  {
   "cell_type": "code",
   "execution_count": 37,
   "id": "5acb0461",
   "metadata": {},
   "outputs": [],
   "source": [
    "import torch.nn.functional as F"
   ]
  },
  {
   "cell_type": "code",
   "execution_count": 38,
   "id": "5eaf52bd",
   "metadata": {},
   "outputs": [],
   "source": [
    "import torchvision.transforms as T"
   ]
  },
  {
   "cell_type": "code",
   "execution_count": 39,
   "id": "2cb89a6b",
   "metadata": {},
   "outputs": [],
   "source": [
    "from torch.autograd import Variable"
   ]
  },
  {
   "cell_type": "code",
   "execution_count": 40,
   "id": "77554075",
   "metadata": {},
   "outputs": [],
   "source": [
    "import torch.utils.data as data"
   ]
  },
  {
   "cell_type": "code",
   "execution_count": 43,
   "id": "4c99c1d6",
   "metadata": {},
   "outputs": [],
   "source": [
    "EPOCHS = 2\n",
    "BATCH_SIZE = 10\n",
    "LEARNING_RATE = 0.003\n",
    "TRAIN_DATA_PATH = \"./CarneDataset/train\"\n",
    "TEST_DATA_PATH = \"./CarneDataset/test\"\n",
    "TRANSFORM_IMG = T.Compose([\n",
    "    T.Resize((224,224), T.InterpolationMode.BICUBIC),\n",
    "    T.CenterCrop(256),\n",
    "    T.ToTensor(),\n",
    "    T.Normalize(mean=[0.485, 0.456, 0.406],\n",
    "                         std=[0.229, 0.224, 0.225] )\n",
    "    ])\n",
    "transformada_train = T.Compose([T.Resize((224, 224), T.InterpolationMode.BICUBIC), T.ToTensor()])\n",
    "\n",
    "#train_data = torchvision.datasets.ImageFolder(root=TRAIN_DATA_PATH, transform=TRANSFORM_IMG)\n",
    "#train_data_loader = data.DataLoader(train_data, batch_size=BATCH_SIZE, shuffle=True,  num_workers=4)\n",
    "#test_data = torchvision.datasets.ImageFolder(root=TEST_DATA_PATH, transform=TRANSFORM_IMG)\n",
    "#test_data_loader  = data.DataLoader(test_data, batch_size=BATCH_SIZE, shuffle=True, num_workers=4) \n"
   ]
  },
  {
   "cell_type": "code",
   "execution_count": 42,
   "id": "cc15fafa",
   "metadata": {},
   "outputs": [
    {
     "data": {
      "text/plain": [
       "['CLASS_03',\n",
       " 'CLASS_04',\n",
       " 'CLASS_05',\n",
       " 'CLASS_02',\n",
       " '.DS_Store',\n",
       " 'CLASS_07',\n",
       " 'CLASS_01',\n",
       " 'CLASS_06',\n",
       " 'CLASS_08']"
      ]
     },
     "execution_count": 42,
     "metadata": {},
     "output_type": "execute_result"
    }
   ],
   "source": [
    "os.listdir(\"./CarneDataset/train\") "
   ]
  },
  {
   "cell_type": "code",
   "execution_count": 44,
   "id": "a5f1e9c4",
   "metadata": {},
   "outputs": [],
   "source": [
    "train_data = torchvision.datasets.ImageFolder(root=TRAIN_DATA_PATH, transform=TRANSFORM_IMG)"
   ]
  },
  {
   "cell_type": "code",
   "execution_count": 22,
   "id": "b9eba068",
   "metadata": {},
   "outputs": [],
   "source": [
    "ruta_dataset_train = \"./CarneDataset/train\""
   ]
  },
  {
   "cell_type": "code",
   "execution_count": 45,
   "id": "6f9bcfd2",
   "metadata": {},
   "outputs": [],
   "source": [
    "transformada_train = T.Compose([T.Resize((224, 224), T.InterpolationMode.BICUBIC), T.ToTensor()])"
   ]
  },
  {
   "cell_type": "code",
   "execution_count": 46,
   "id": "6d640b58",
   "metadata": {},
   "outputs": [],
   "source": [
    "dataset_train = torchvision.datasets.ImageFolder(root=ruta_dataset_train)"
   ]
  },
  {
   "cell_type": "code",
   "execution_count": null,
   "id": "b0509354",
   "metadata": {},
   "outputs": [],
   "source": [
    "from.tensorflow.python.keras.preprocessing.image import ImageDataGenerator"
   ]
  },
  {
   "cell_type": "code",
   "execution_count": 47,
   "id": "290b0e37",
   "metadata": {},
   "outputs": [
    {
     "name": "stdout",
     "output_type": "stream",
     "text": [
      "Compose(\n",
      "    Resize(size=(224, 224), interpolation=bicubic, max_size=None, antialias=None)\n",
      "    ToTensor()\n",
      ")\n"
     ]
    }
   ],
   "source": [
    "print(transformada_train)"
   ]
  },
  {
   "cell_type": "code",
   "execution_count": 26,
   "id": "0234ae83",
   "metadata": {},
   "outputs": [],
   "source": [
    "train_data_loader = data.DataLoader(train_data, batch_size=BATCH_SIZE, shuffle=True,  num_workers=4)"
   ]
  },
  {
   "cell_type": "code",
   "execution_count": null,
   "id": "b760539c",
   "metadata": {},
   "outputs": [],
   "source": [
    "from.tensorflow.python.keras import optimizers"
   ]
  },
  {
   "cell_type": "code",
   "execution_count": null,
   "id": "a8e6ec0f",
   "metadata": {},
   "outputs": [],
   "source": []
  },
  {
   "cell_type": "code",
   "execution_count": null,
   "id": "be444551",
   "metadata": {},
   "outputs": [],
   "source": [
    "from.tensorflow.python.keras.preprocessing.image import ImageDataGenerator"
   ]
  },
  {
   "cell_type": "code",
   "execution_count": null,
   "id": "7a383b98",
   "metadata": {},
   "outputs": [],
   "source": [
    "from tensorflow.python.keras.preprocessing.image import ImageDataGenerator"
   ]
  },
  {
   "cell_type": "code",
   "execution_count": null,
   "id": "92a0ba9c",
   "metadata": {},
   "outputs": [],
   "source": []
  }
 ],
 "metadata": {
  "kernelspec": {
   "display_name": "Python 3 (ipykernel)",
   "language": "python",
   "name": "python3"
  },
  "language_info": {
   "codemirror_mode": {
    "name": "ipython",
    "version": 3
   },
   "file_extension": ".py",
   "mimetype": "text/x-python",
   "name": "python",
   "nbconvert_exporter": "python",
   "pygments_lexer": "ipython3",
   "version": "3.9.12"
  }
 },
 "nbformat": 4,
 "nbformat_minor": 5
}
